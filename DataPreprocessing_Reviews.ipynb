{
 "cells": [
  {
   "cell_type": "code",
   "execution_count": 2,
   "metadata": {},
   "outputs": [],
   "source": [
    "import pandas as pd\n",
    "import json\n",
    "\n",
    "# with open('user.json',encoding=\"utf8\") as json_file:      \n",
    "#     data = json_file.readlines()\n",
    "#     # this line below may take at least 8-10 minutes of processing for 4-5 million rows. It converts all strings in list to actual json objects. \n",
    "#     data = list(map(json.loads, data)) \n"
   ]
  },
  {
   "cell_type": "code",
   "execution_count": null,
   "metadata": {},
   "outputs": [],
   "source": []
  },
  {
   "cell_type": "code",
   "execution_count": 4,
   "metadata": {},
   "outputs": [
    {
     "ename": "MemoryError",
     "evalue": "",
     "output_type": "error",
     "traceback": [
      "\u001b[0;31m---------------------------------------------------------------------------\u001b[0m",
      "\u001b[0;31mMemoryError\u001b[0m                               Traceback (most recent call last)",
      "\u001b[0;32m<ipython-input-4-8d14fc87dda4>\u001b[0m in \u001b[0;36m<module>\u001b[0;34m\u001b[0m\n\u001b[0;32m----> 1\u001b[0;31m \u001b[0muser_df\u001b[0m \u001b[0;34m=\u001b[0m \u001b[0mpd\u001b[0m\u001b[0;34m.\u001b[0m\u001b[0mread_json\u001b[0m\u001b[0;34m(\u001b[0m\u001b[0;34m'user.json'\u001b[0m\u001b[0;34m)\u001b[0m\u001b[0;34m\u001b[0m\u001b[0;34m\u001b[0m\u001b[0m\n\u001b[0m",
      "\u001b[0;32m/usr/local/lib/python3.6/dist-packages/pandas/io/json/json.py\u001b[0m in \u001b[0;36mread_json\u001b[0;34m(path_or_buf, orient, typ, dtype, convert_axes, convert_dates, keep_default_dates, numpy, precise_float, date_unit, encoding, lines, chunksize, compression)\u001b[0m\n\u001b[1;32m    419\u001b[0m         \u001b[0mkeep_default_dates\u001b[0m\u001b[0;34m=\u001b[0m\u001b[0mkeep_default_dates\u001b[0m\u001b[0;34m,\u001b[0m \u001b[0mnumpy\u001b[0m\u001b[0;34m=\u001b[0m\u001b[0mnumpy\u001b[0m\u001b[0;34m,\u001b[0m\u001b[0;34m\u001b[0m\u001b[0;34m\u001b[0m\u001b[0m\n\u001b[1;32m    420\u001b[0m         \u001b[0mprecise_float\u001b[0m\u001b[0;34m=\u001b[0m\u001b[0mprecise_float\u001b[0m\u001b[0;34m,\u001b[0m \u001b[0mdate_unit\u001b[0m\u001b[0;34m=\u001b[0m\u001b[0mdate_unit\u001b[0m\u001b[0;34m,\u001b[0m \u001b[0mencoding\u001b[0m\u001b[0;34m=\u001b[0m\u001b[0mencoding\u001b[0m\u001b[0;34m,\u001b[0m\u001b[0;34m\u001b[0m\u001b[0;34m\u001b[0m\u001b[0m\n\u001b[0;32m--> 421\u001b[0;31m         \u001b[0mlines\u001b[0m\u001b[0;34m=\u001b[0m\u001b[0mlines\u001b[0m\u001b[0;34m,\u001b[0m \u001b[0mchunksize\u001b[0m\u001b[0;34m=\u001b[0m\u001b[0mchunksize\u001b[0m\u001b[0;34m,\u001b[0m \u001b[0mcompression\u001b[0m\u001b[0;34m=\u001b[0m\u001b[0mcompression\u001b[0m\u001b[0;34m,\u001b[0m\u001b[0;34m\u001b[0m\u001b[0;34m\u001b[0m\u001b[0m\n\u001b[0m\u001b[1;32m    422\u001b[0m     )\n\u001b[1;32m    423\u001b[0m \u001b[0;34m\u001b[0m\u001b[0m\n",
      "\u001b[0;32m/usr/local/lib/python3.6/dist-packages/pandas/io/json/json.py\u001b[0m in \u001b[0;36m__init__\u001b[0;34m(self, filepath_or_buffer, orient, typ, dtype, convert_axes, convert_dates, keep_default_dates, numpy, precise_float, date_unit, encoding, lines, chunksize, compression)\u001b[0m\n\u001b[1;32m    469\u001b[0m \u001b[0;34m\u001b[0m\u001b[0m\n\u001b[1;32m    470\u001b[0m         \u001b[0mdata\u001b[0m \u001b[0;34m=\u001b[0m \u001b[0mself\u001b[0m\u001b[0;34m.\u001b[0m\u001b[0m_get_data_from_filepath\u001b[0m\u001b[0;34m(\u001b[0m\u001b[0mfilepath_or_buffer\u001b[0m\u001b[0;34m)\u001b[0m\u001b[0;34m\u001b[0m\u001b[0;34m\u001b[0m\u001b[0m\n\u001b[0;32m--> 471\u001b[0;31m         \u001b[0mself\u001b[0m\u001b[0;34m.\u001b[0m\u001b[0mdata\u001b[0m \u001b[0;34m=\u001b[0m \u001b[0mself\u001b[0m\u001b[0;34m.\u001b[0m\u001b[0m_preprocess_data\u001b[0m\u001b[0;34m(\u001b[0m\u001b[0mdata\u001b[0m\u001b[0;34m)\u001b[0m\u001b[0;34m\u001b[0m\u001b[0;34m\u001b[0m\u001b[0m\n\u001b[0m\u001b[1;32m    472\u001b[0m \u001b[0;34m\u001b[0m\u001b[0m\n\u001b[1;32m    473\u001b[0m     \u001b[0;32mdef\u001b[0m \u001b[0m_preprocess_data\u001b[0m\u001b[0;34m(\u001b[0m\u001b[0mself\u001b[0m\u001b[0;34m,\u001b[0m \u001b[0mdata\u001b[0m\u001b[0;34m)\u001b[0m\u001b[0;34m:\u001b[0m\u001b[0;34m\u001b[0m\u001b[0;34m\u001b[0m\u001b[0m\n",
      "\u001b[0;32m/usr/local/lib/python3.6/dist-packages/pandas/io/json/json.py\u001b[0m in \u001b[0;36m_preprocess_data\u001b[0;34m(self, data)\u001b[0m\n\u001b[1;32m    480\u001b[0m         \"\"\"\n\u001b[1;32m    481\u001b[0m         \u001b[0;32mif\u001b[0m \u001b[0mhasattr\u001b[0m\u001b[0;34m(\u001b[0m\u001b[0mdata\u001b[0m\u001b[0;34m,\u001b[0m \u001b[0;34m'read'\u001b[0m\u001b[0;34m)\u001b[0m \u001b[0;32mand\u001b[0m \u001b[0;32mnot\u001b[0m \u001b[0mself\u001b[0m\u001b[0;34m.\u001b[0m\u001b[0mchunksize\u001b[0m\u001b[0;34m:\u001b[0m\u001b[0;34m\u001b[0m\u001b[0;34m\u001b[0m\u001b[0m\n\u001b[0;32m--> 482\u001b[0;31m             \u001b[0mdata\u001b[0m \u001b[0;34m=\u001b[0m \u001b[0mdata\u001b[0m\u001b[0;34m.\u001b[0m\u001b[0mread\u001b[0m\u001b[0;34m(\u001b[0m\u001b[0;34m)\u001b[0m\u001b[0;34m\u001b[0m\u001b[0;34m\u001b[0m\u001b[0m\n\u001b[0m\u001b[1;32m    483\u001b[0m         \u001b[0;32mif\u001b[0m \u001b[0;32mnot\u001b[0m \u001b[0mhasattr\u001b[0m\u001b[0;34m(\u001b[0m\u001b[0mdata\u001b[0m\u001b[0;34m,\u001b[0m \u001b[0;34m'read'\u001b[0m\u001b[0;34m)\u001b[0m \u001b[0;32mand\u001b[0m \u001b[0mself\u001b[0m\u001b[0;34m.\u001b[0m\u001b[0mchunksize\u001b[0m\u001b[0;34m:\u001b[0m\u001b[0;34m\u001b[0m\u001b[0;34m\u001b[0m\u001b[0m\n\u001b[1;32m    484\u001b[0m             \u001b[0mdata\u001b[0m \u001b[0;34m=\u001b[0m \u001b[0mStringIO\u001b[0m\u001b[0;34m(\u001b[0m\u001b[0mdata\u001b[0m\u001b[0;34m)\u001b[0m\u001b[0;34m\u001b[0m\u001b[0;34m\u001b[0m\u001b[0m\n",
      "\u001b[0;32m/usr/lib/python3.6/codecs.py\u001b[0m in \u001b[0;36mdecode\u001b[0;34m(self, input, final)\u001b[0m\n\u001b[1;32m    319\u001b[0m         \u001b[0;31m# decode input (taking the buffer into account)\u001b[0m\u001b[0;34m\u001b[0m\u001b[0;34m\u001b[0m\u001b[0;34m\u001b[0m\u001b[0m\n\u001b[1;32m    320\u001b[0m         \u001b[0mdata\u001b[0m \u001b[0;34m=\u001b[0m \u001b[0mself\u001b[0m\u001b[0;34m.\u001b[0m\u001b[0mbuffer\u001b[0m \u001b[0;34m+\u001b[0m \u001b[0minput\u001b[0m\u001b[0;34m\u001b[0m\u001b[0;34m\u001b[0m\u001b[0m\n\u001b[0;32m--> 321\u001b[0;31m         \u001b[0;34m(\u001b[0m\u001b[0mresult\u001b[0m\u001b[0;34m,\u001b[0m \u001b[0mconsumed\u001b[0m\u001b[0;34m)\u001b[0m \u001b[0;34m=\u001b[0m \u001b[0mself\u001b[0m\u001b[0;34m.\u001b[0m\u001b[0m_buffer_decode\u001b[0m\u001b[0;34m(\u001b[0m\u001b[0mdata\u001b[0m\u001b[0;34m,\u001b[0m \u001b[0mself\u001b[0m\u001b[0;34m.\u001b[0m\u001b[0merrors\u001b[0m\u001b[0;34m,\u001b[0m \u001b[0mfinal\u001b[0m\u001b[0;34m)\u001b[0m\u001b[0;34m\u001b[0m\u001b[0;34m\u001b[0m\u001b[0m\n\u001b[0m\u001b[1;32m    322\u001b[0m         \u001b[0;31m# keep undecoded input until the next call\u001b[0m\u001b[0;34m\u001b[0m\u001b[0;34m\u001b[0m\u001b[0;34m\u001b[0m\u001b[0m\n\u001b[1;32m    323\u001b[0m         \u001b[0mself\u001b[0m\u001b[0;34m.\u001b[0m\u001b[0mbuffer\u001b[0m \u001b[0;34m=\u001b[0m \u001b[0mdata\u001b[0m\u001b[0;34m[\u001b[0m\u001b[0mconsumed\u001b[0m\u001b[0;34m:\u001b[0m\u001b[0;34m]\u001b[0m\u001b[0;34m\u001b[0m\u001b[0;34m\u001b[0m\u001b[0m\n",
      "\u001b[0;31mMemoryError\u001b[0m: "
     ]
    }
   ],
   "source": [
    "user_df = pd.read_json('user.json')"
   ]
  },
  {
   "cell_type": "code",
   "execution_count": 4,
   "metadata": {},
   "outputs": [
    {
     "name": "stdout",
     "output_type": "stream",
     "text": [
      "   average_stars  compliment_cool  compliment_cute  compliment_funny  \\\n",
      "0           4.03                1                0                 1   \n",
      "1           3.63                1                0                 1   \n",
      "2           3.71                0                0                 0   \n",
      "3           4.85                0                0                 0   \n",
      "4           4.08               80                0                80   \n",
      "5           4.20              483               44               483   \n",
      "6           4.39             4991              889              4991   \n",
      "7           4.33                0                0                 0   \n",
      "8           4.21               95                7                95   \n",
      "9           4.53               14                2                14   \n",
      "\n",
      "   compliment_hot  compliment_list  compliment_more  compliment_note  \\\n",
      "0               2                0                0                1   \n",
      "1               1                0                0                0   \n",
      "2               0                0                0                1   \n",
      "3               1                0                0                0   \n",
      "4              28                1                1               16   \n",
      "5             350                3               46              221   \n",
      "6            5233              152              314             1600   \n",
      "7               0                0                0                0   \n",
      "8              60                3               16               31   \n",
      "9              13                0                3               12   \n",
      "\n",
      "   compliment_photos  compliment_plain         ...            cool  \\\n",
      "0                  0                 1         ...              25   \n",
      "1                  0                 0         ...              16   \n",
      "2                  0                 0         ...              10   \n",
      "3                  0                 2         ...              14   \n",
      "4                  5                57         ...             665   \n",
      "5                195               404         ...            3048   \n",
      "6                428              3635         ...           15319   \n",
      "7                  0                 0         ...               1   \n",
      "8                  2                72         ...            1244   \n",
      "9                  5                 8         ...             185   \n",
      "\n",
      "                                     elite  fans  \\\n",
      "0                           2015,2016,2017     5   \n",
      "1                                              4   \n",
      "2                                              0   \n",
      "3                                              5   \n",
      "4                      2015,2016,2017,2018    39   \n",
      "5                      2015,2016,2017,2018   186   \n",
      "6  2006,2007,2008,2009,2010,2011,2012,2013   696   \n",
      "7                                              0   \n",
      "8       2006,2007,2008,2009,2010,2011,2012    57   \n",
      "9                                             15   \n",
      "\n",
      "                                             friends  funny     name  \\\n",
      "0  c78V-rj8NQcQjOI8KP3UEA, alRMgPcngYSCJ5naFRBz5g...     17   Rashmi   \n",
      "1  kEBTgDvFX754S68FllfCaA, aB2DynOxNOJK9st2ZeGTPg...     22    Jenna   \n",
      "2  4N-HU_T32hLENLntsNKNBg, pSY2vwWLgWfGVAAiKQzMng...      8    David   \n",
      "3  RZ6wS38wnlXyj-OOdTzBxA, l5jxZh1KsgI8rMunm-GN6A...      4   Angela   \n",
      "4  mbwrZ-RS76V1HoJ0bF_Geg, g64lOV39xSLRZO0aQQ6DeQ...    279    Nancy   \n",
      "5  AJxDPGVTzefy3vSHWJchvQ, TgveR4qIsr0Q7b4MJK29TA...   2424  Marilyn   \n",
      "6  RJQTcJVlBsJ3_Yo0JSFQQg, GWt_h78k1CBBkE1NpThGfQ...  19356    Keane   \n",
      "7  d1z7Xc9RG5TVBkdUPhSbAw, IgsbGFEN8NWshPNOBiNGmg...      0    Andre   \n",
      "8  ctr_BlCf3Ogny-vLs8E9tQ, c6HT44PKCaXqzN_BdgKPCw...    693    Tanya   \n",
      "9  N-xeG3U6rUkjVtQ0o-5YZA, wnO99pBbGqwqOoTQM25iCw...     70    Trace   \n",
      "\n",
      "   review_count useful                 user_id        yelping_since  \n",
      "0            95     84  l6BmjZMeQD3rDxWUbiAiow  2013-10-08 23:11:33  \n",
      "1            33     48  4XChL029mKr5hydo79Ljxg  2013-02-21 22:29:06  \n",
      "2            16     28  bc8C_eETBWL0olvFSJJd0w  2013-10-04 00:16:10  \n",
      "3            17     30  dD0gZpBctWGdWo9WlGuhlA  2014-05-22 15:57:30  \n",
      "4           361   1114  MM4RJAeH6yuaN8oZDSt0RA  2013-10-23 07:02:50  \n",
      "5           214   3475  0rK89TS8xqy1wI4nYI1wfw  2011-06-23 08:05:13  \n",
      "6          1122  13311  TEtzbpgA2BFBrC0y0sCbfw  2006-02-15 18:29:35  \n",
      "7             6      1  KGuqerdeNhxzXZEyBaqqSw  2014-06-07 01:50:09  \n",
      "8           859   1630  T0gWkTHWRChVUe_Dn1F8nw  2005-07-20 22:38:17  \n",
      "9           124    202  NQffx45eJaeqhFcMadKUQA  2008-12-10 22:59:45  \n",
      "\n",
      "[10 rows x 22 columns]\n"
     ]
    }
   ],
   "source": [
    "print(df)"
   ]
  },
  {
   "cell_type": "code",
   "execution_count": 2,
   "metadata": {},
   "outputs": [],
   "source": [
    "user = ['4XChL029mKr5hydo79Ljxg', 'bc8C_eETBWL0olvFSJJd0w', 'dD0gZpBctWGdWo9WlGuhlA', 'MM4RJAeH6yuaN8oZDSt0RA', '0rK89TS8xqy1wI4nYI1wfw', 'TEtzbpgA2BFBrC0y0sCbfw', 'KGuqerdeNhxzXZEyBaqqSw', 'T0gWkTHWRChVUe_Dn1F8nw', 'NQffx45eJaeqhFcMadKUQA']"
   ]
  },
  {
   "cell_type": "code",
   "execution_count": 5,
   "metadata": {},
   "outputs": [],
   "source": [
    "with open(r'D:\\Study\\AA\\review.json',encoding=\"utf8\") as json_file:      \n",
    "    data = json_file.readlines()\n",
    "    # this line below may take at least 8-10 minutes of processing for 4-5 million rows. It converts all strings in list to actual json objects. \n",
    "    data = list(map(json.loads, data)) "
   ]
  },
  {
   "cell_type": "code",
   "execution_count": 6,
   "metadata": {},
   "outputs": [],
   "source": [
    "df=pd.DataFrame(data)\n",
    "#df.to_csv('review.json', sep=',')\n",
    "\n"
   ]
  },
  {
   "cell_type": "code",
   "execution_count": 8,
   "metadata": {},
   "outputs": [],
   "source": [
    "csv_data = []\n",
    "for index, row in df.iterrows():\n",
    "    if row['user_id'] in user:\n",
    "        csv_data.append(row)\n"
   ]
  },
  {
   "cell_type": "code",
   "execution_count": 10,
   "metadata": {},
   "outputs": [
    {
     "data": {
      "text/plain": [
       "business_id                               PNzir9TtJAD7U41GwR98-w\n",
       "cool                                                           1\n",
       "date                                         2017-03-27 08:18:16\n",
       "funny                                                          0\n",
       "review_id                                 dLOTJm1mZA1cErGSSK_N7w\n",
       "stars                                                          3\n",
       "text           So, Mom and Dad live in Sun City and this rest...\n",
       "useful                                                         3\n",
       "user_id                                   MM4RJAeH6yuaN8oZDSt0RA\n",
       "Name: 10232, dtype: object"
      ]
     },
     "execution_count": 10,
     "metadata": {},
     "output_type": "execute_result"
    }
   ],
   "source": [
    "csv_data[0]\n",
    "#df.to_pickle(r'D:\\Study\\AA\\review_pkl.pkl')"
   ]
  },
  {
   "cell_type": "code",
   "execution_count": 3,
   "metadata": {},
   "outputs": [
    {
     "ename": "NameError",
     "evalue": "name 'csv_data' is not defined",
     "output_type": "error",
     "traceback": [
      "\u001b[1;31m---------------------------------------------------------------------------\u001b[0m",
      "\u001b[1;31mNameError\u001b[0m                                 Traceback (most recent call last)",
      "\u001b[1;32m<ipython-input-3-a988c5e90a93>\u001b[0m in \u001b[0;36m<module>\u001b[1;34m\u001b[0m\n\u001b[1;32m----> 1\u001b[1;33m \u001b[0mreview_df\u001b[0m \u001b[1;33m=\u001b[0m \u001b[0mpd\u001b[0m\u001b[1;33m.\u001b[0m\u001b[0mDataFrame\u001b[0m\u001b[1;33m(\u001b[0m\u001b[0mcsv_data\u001b[0m\u001b[1;33m)\u001b[0m\u001b[1;33m\u001b[0m\u001b[1;33m\u001b[0m\u001b[0m\n\u001b[0m\u001b[0;32m      2\u001b[0m \u001b[0mreview_df\u001b[0m\u001b[1;33m.\u001b[0m\u001b[0mto_pickle\u001b[0m\u001b[1;33m(\u001b[0m\u001b[1;34mr'D:\\Study\\AA\\review_model_data.pkl'\u001b[0m\u001b[1;33m)\u001b[0m\u001b[1;33m\u001b[0m\u001b[1;33m\u001b[0m\u001b[0m\n",
      "\u001b[1;31mNameError\u001b[0m: name 'csv_data' is not defined"
     ]
    }
   ],
   "source": [
    "review_df = pd.DataFrame(csv_data)\n",
    "review_df.to_pickle(r'D:\\Study\\AA\\review_model_data.pkl')"
   ]
  },
  {
   "cell_type": "code",
   "execution_count": 12,
   "metadata": {},
   "outputs": [
    {
     "data": {
      "text/plain": [
       "Index(['business_id', 'cool', 'date', 'funny', 'review_id', 'stars', 'text',\n",
       "       'useful', 'user_id'],\n",
       "      dtype='object')"
      ]
     },
     "execution_count": 12,
     "metadata": {},
     "output_type": "execute_result"
    }
   ],
   "source": [
    "review_df.columns"
   ]
  },
  {
   "cell_type": "code",
   "execution_count": 25,
   "metadata": {},
   "outputs": [],
   "source": [
    "business_id_list = review_df['business_id'].tolist()"
   ]
  },
  {
   "cell_type": "code",
   "execution_count": 27,
   "metadata": {},
   "outputs": [
    {
     "data": {
      "text/plain": [
       "['PNzir9TtJAD7U41GwR98-w',\n",
       " 'Wxxvi3LZbHNIDwJ-ZimtnA',\n",
       " 'pH0BLkL4cbxKzu471VZnuA',\n",
       " '1c_jEfvQBPXZ5YUaAMYJrQ',\n",
       " 'RBAcL6hg2yoaTRv0kKUjPA',\n",
       " 'YPK024huhY2np5hJ_5qWCw',\n",
       " 'Wxxvi3LZbHNIDwJ-ZimtnA',\n",
       " 'lV3qjLJF_5QujITWHZ64gg',\n",
       " 'dm6sO_Y8JdKTE1ZM955yug',\n",
       " 'YMeWjOd1svHDGdDCKoiGgg',\n",
       " 'Zi7_E88i5KlOtaBobPVc5w',\n",
       " 'Ql5npMMRWKurN99tgA-g5w',\n",
       " 'p-8AMN9Q0qwym-3Pdle20Q',\n",
       " '-LRlx2j9_LB3evsRRcC9MA',\n",
       " 'znWHLW1pt19HzW1VY6KfCA',\n",
       " '_EBa6I5KkADiCdcBHOC_tg',\n",
       " 'N0apJkxIem2E8irTBRKnHw',\n",
       " '9E1q2uEMd881wnruicNTUA',\n",
       " '0qSKZhVC_BHPuKro4QGWJw',\n",
       " 'd_L-rfS1vT3JMzgCUGtiow',\n",
       " 'CfxFKL-F51ZGFGlKhnLJoQ',\n",
       " 'Hr_Bk65xD2yQxjJhhorH1g',\n",
       " 'CfxFKL-F51ZGFGlKhnLJoQ',\n",
       " 'GcvVXgdt4dq7EgVjbfD1wg',\n",
       " 'I-5qHCVwT7k_KH67-YOx3A',\n",
       " 'ry-FLqYclt7okJbdYcmOhw',\n",
       " 'eE4MUd3m6j6yISWjEYjyPQ',\n",
       " 'KVsv8wRGnLX8QWoNZKNMQA',\n",
       " 'i9D9xPBV0gR1Ja9kbY4NCw',\n",
       " 'WluvnTRuDWnWDDm0YqOOYQ',\n",
       " 'q9-wYYSd0iO2FNSx11Ig0Q',\n",
       " 'DVJkxZkLKS76Khb2y6XA6A',\n",
       " '7RTwUpuPFnIHPoTmWJpWhQ',\n",
       " 'ozMd45nXHTCl3mdOwouwlw',\n",
       " 'EhuKnhTKJTm_EZ_QGe7PvQ',\n",
       " 'xR1gLCH5resvtq1eV1nebg',\n",
       " 'EQ7PtG9GzraQ7kYi0j8geg',\n",
       " 'k-YKRajhSb6fi6czwhGRGg',\n",
       " 'NvKNe9DnQavC9GstglcBJQ',\n",
       " 'wTDsirjG5uWh9go8RLvJcQ',\n",
       " 'zlFyjtCp4AQ1cPx59qeFQQ',\n",
       " '8OeHn9KCbICuRBs_XiDDUA',\n",
       " 'Ja9Cbo-9Hhp9MV_GzbzmtA',\n",
       " 'Cr4ipI-tr-R8Q0NilkWNkA',\n",
       " 'C7JaaErXLB3B3486LfWg5w',\n",
       " '5zDP3Y2hdh6GJL9DVbQ2KA',\n",
       " 'A5Rkh7UymKm0_Rxm9K2PJw',\n",
       " 'oj5k-I0YSbuc5tDInt2isQ',\n",
       " '17KRWBtZe0lZrR9N-QarUA',\n",
       " 'BCAw9a_kyx2RddRH9tMmKQ',\n",
       " 'cW-guonyUbsjZ7b7tXauHw',\n",
       " 'QJR4qBUHegWEozSQrGmBPw',\n",
       " 'Q-fXNh68OldNdotEVEJuhQ',\n",
       " 'Z5eukYH32_nFljOTC2DJ0g',\n",
       " 'x2JxsUlVFrcQ3FvK2UR6KA',\n",
       " 'PWGIAIXAoh91nayfIOQMTQ',\n",
       " 'ByThTA6BEp9b6kEDt4RYTA',\n",
       " '2_-1k5i1R2Rfs-mHcme8kg',\n",
       " '6NG_A-epYEpsJSugfAaTRQ',\n",
       " 'Uk0_hruW6Ai5Tb47zo7IIQ',\n",
       " 'cgZOP1ZUBOZmEQMSJ53oiQ',\n",
       " 'pshiKbFYbE2P5dkXa0FVgg',\n",
       " '7j5yndEexyQn9cpVXLIIpw',\n",
       " 'OjApDLQUPV8c_yPCg8xZog',\n",
       " 'IsADZMYEJKXTtPfN9YsiBA',\n",
       " 'Tmff4a1JIRposzyVk9ZlLA',\n",
       " 'OjApDLQUPV8c_yPCg8xZog',\n",
       " 'vOkXwSgz3avuRk9XkaWOXw',\n",
       " 'PaKG_CtfPbjWQUcdro81rw',\n",
       " '3OIlaCryu24FdD3us_-XLg',\n",
       " 'HmsCerK_rub0Ulo0aC0f9A',\n",
       " '5aYBdm3meMqyKkzJV72Uqw',\n",
       " 'hjgr1NJPgPjEUiUn7Ejn2A',\n",
       " 'na4Th5DrNauOv-c43QQFvA',\n",
       " 'ZCzey5aPhd7jYIoHsUfjmQ',\n",
       " 'na4Th5DrNauOv-c43QQFvA',\n",
       " 'C74ViML3zx1akYVafLaiXQ',\n",
       " 'NWjJK9c5YOQSbMX_bw24sA',\n",
       " 'JvHv4HDT7sU7rMYyDzJuMQ',\n",
       " 'DNSDAtD6uxQkoZkQe2v4ew',\n",
       " 'nvuxmCaSCe1BaLd5A_6ROg',\n",
       " 'bNpgu9sr3K18oLLw-eL75A',\n",
       " 'w6zW6gIyg1sI5V6Wag_SYg',\n",
       " 'ChBrV5LdR4BtnRxkR0Y9Qg',\n",
       " 'RSOinkOUpxm0mGw1IWr4Xw',\n",
       " 'hPCNnDC5E0sXP8rFlMiAaA',\n",
       " '2SfSzEd3B7WimeZac23zhg',\n",
       " 'wfWcE4K7vQX1Fjao9Q-12Q',\n",
       " 'eEnNw3_hBvxcFHyr23kAuA',\n",
       " 'Hfn5TFzr2qFtW5cl59tCyw',\n",
       " 'GG_o4Qt-vYUpnDCGP6Zpeg',\n",
       " 'pYeoaUJ6veQ3FEiSBnVMcw',\n",
       " 'eAc9Vd6loOgRQolMXQt6FA',\n",
       " 'UIDhcNNFxnQBwFlnCXql6g',\n",
       " 'dn_ipqbm7_jUz5X3rDez_A',\n",
       " 'FSnqO-YWUdRb0Xc95nXbvw',\n",
       " 'qTyDB6H9Un3PJD63vlk_SA',\n",
       " 'z0rSmZQz9eEXjg_C3_E5-g',\n",
       " 'XiN6fI8I3Mzg2nPRJ9ukRQ',\n",
       " 'y8d90Pt16Nip-B5UXWBP-w',\n",
       " '3oajqiPFhYQJsHHiVCchEQ',\n",
       " '-tUzC36oTD0C0a7v49PGOQ',\n",
       " 'WpI5MZC3XzlTpcUOKXzCbA',\n",
       " 'GIhzzb9tjqLCYdNP_k3-dQ',\n",
       " 'OK0ba4X5seibH8oMWh4bhw',\n",
       " 'DZwR0EIPKlmC3mMLhTkqcQ',\n",
       " 'I6EDDi4-Eq_XlFghcDCUhw',\n",
       " 'YYzHvjD16a8Vn6AeaWBKJg',\n",
       " 'kJ4SnxICNOhFEygognsDng',\n",
       " 'bp5ARRJu3_8CBsAS4tOWhA',\n",
       " 'vNoyICtClJd3pcMG96CXsA',\n",
       " '2UtXzrjGsb0ptSemV5a-Mg',\n",
       " 'OETh78qcgDltvHULowwhJg',\n",
       " '-Ucy8i4uc_OzN8y5fkGVaQ',\n",
       " 'UYh1N1xQhOh-a7nX92xPzQ',\n",
       " 'XlPTFW_YJxb4ONsI1Luo1Q',\n",
       " 'cykzJbkgweJvZsvkrHMR7g',\n",
       " '7ibuDLfx8gEhESAufYIySw',\n",
       " 'P-0LHbAX0z3Zstm4GumhMA',\n",
       " 'V90fC_aF-_DNYzQvUtbLww',\n",
       " 'hYX0z2C6Th5XmcrKOP31fQ',\n",
       " 'iqQEH6olFhpqwZjFRRFmuA',\n",
       " 'x-ttvXOl09irws_t9Bj5cQ',\n",
       " 'OK0ba4X5seibH8oMWh4bhw',\n",
       " 'd4qwVw4PcN-_2mK2o1Ro1g',\n",
       " 'mfMTS_2YBhmq9phSx1bnxg',\n",
       " 'RhakCggyOUbm6tkAJDaoLw',\n",
       " 'xQWgzGkO72IDwaueB6mj5g',\n",
       " 'UYh1N1xQhOh-a7nX92xPzQ',\n",
       " '6Q7-wkCPc1KF75jZLOTcMw',\n",
       " 'Iq7NqQD-sESu3vr9iEGuTA',\n",
       " 'kULyjAdIe8n-WhPoHw893w',\n",
       " 'Cni2l-VKG_pdospJ6xliXQ',\n",
       " '5Zc41a446gV3K_o7CDs69Q',\n",
       " 'J3FUxMAHfCl-WFo86u5DqA',\n",
       " 'xBB4LJWi0d4jyCle5dDjwg',\n",
       " 'Qn_mBXvKnn9VeOKym0Ussw',\n",
       " 'ii8sAGBexBOJoYRFafF9XQ',\n",
       " 'dPqbKki9KBSFjxxLj_urwA',\n",
       " '4tiFtmGNFcvKRSPXPVT8Hw',\n",
       " 'MpT8KheTjs7TSDWIoMUFxg',\n",
       " 'Yo8ODT7aFMM2xKUd1yaBVw',\n",
       " 'uGupeWqih0yIcCg8anM1PA',\n",
       " 'blSo58x1yUZdT30VwnpOmw',\n",
       " 'kULyjAdIe8n-WhPoHw893w',\n",
       " '8JNKMS8YVF3Fz9U_SL6L2Q',\n",
       " 'cYwJA2A6I12KNkm2rtXd5g',\n",
       " 'ypDarw54zOHqROc1x8K7IA',\n",
       " 'kULyjAdIe8n-WhPoHw893w',\n",
       " 't4bBKVXbr8bIN9nEJIobYg',\n",
       " 'MqYYYNA-ZYvV-1w5qcmMoA',\n",
       " 'El4FC8jcawUVgw_0EIcbaQ',\n",
       " 'uI-dbKk_9cUen7pi3-16Sg',\n",
       " '3WipOV5JlbCEO_o0tV49yA',\n",
       " 'lIDgEB1HnKAq03H1fpjzLQ',\n",
       " 'Rfntx-9M19WUSiDyvyNiBg',\n",
       " 'RMt2bLmZQw6tcY0YFYDgmg',\n",
       " 'y6QP5IrOJ7_FsB51jN2_Jg',\n",
       " 'I1rDmKwZpR3VykgZDKMpTQ',\n",
       " 'n9JeKS94hJRvnyZLqUbO6w',\n",
       " 'VPS6qGuQsptLmHChOvA0_Q',\n",
       " 'tcfL9_Qe-12eX4rdmK_6XA',\n",
       " 'GozNbjSI1bdpPqqP_LMSBg',\n",
       " 'AV6weBrZFFBfRGCbcRGO4g',\n",
       " '2weQS-RnoOBhb1KsHKyoSQ',\n",
       " 'p5rpYtxS5xPQjt3MXYVEwA',\n",
       " 'w6wZmLSaht7ZkGBZONeqww',\n",
       " 'uanCi4OGc1mHLGl_AT4JhQ',\n",
       " 'p0iEUamJVp_QpaheE-Nz_g',\n",
       " '-FtngCwHCD2tRlH8jpj_Ag',\n",
       " 'HxWDCU-kKido3ErM31msGQ',\n",
       " 'BwuyBsShSQwO3_-SvW6fRA',\n",
       " 'HHPi_mqKYZ20R1eoaRTJLw',\n",
       " 'SR0Q2hAEMJ_m23O_x-khSQ',\n",
       " 'SZrrRRpbUgeJ1y5oe0jjlw',\n",
       " 'JIETwXSEGIHMNyxZVEnNKQ',\n",
       " 'ybHlmdUHLPKfv85bRK4Wtw',\n",
       " 'OAbwqq66Sc2JYkO6b6rEDw',\n",
       " '-rhH9sL3XGFpoJXcxUpEWA',\n",
       " 'LBVNBYNgopam1CzqPUPVvQ',\n",
       " '4cDWyZa6EqsY4XSWwLY7RA',\n",
       " 'JIETwXSEGIHMNyxZVEnNKQ',\n",
       " 'VTqNVgL8_My5jXTpr8lB3Q',\n",
       " 'GU0zNpgisY-pV3U2Sfdp6A',\n",
       " 'VTqNVgL8_My5jXTpr8lB3Q',\n",
       " 'fHM09_y3QX3n4a_bIFbk_w']"
      ]
     },
     "execution_count": 27,
     "metadata": {},
     "output_type": "execute_result"
    }
   ],
   "source": [
    "#review_df['review_id'].topickle(r'D:\\Study\\AA\\review_id.pkl')\n",
    "business_id_list"
   ]
  }
 ],
 "metadata": {
  "kernelspec": {
   "display_name": "Python 3",
   "language": "python",
   "name": "python3"
  },
  "language_info": {
   "codemirror_mode": {
    "name": "ipython",
    "version": 3
   },
   "file_extension": ".py",
   "mimetype": "text/x-python",
   "name": "python",
   "nbconvert_exporter": "python",
   "pygments_lexer": "ipython3",
   "version": "3.7.1"
  }
 },
 "nbformat": 4,
 "nbformat_minor": 2
}
