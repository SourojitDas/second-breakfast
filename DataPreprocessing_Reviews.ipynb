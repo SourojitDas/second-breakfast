{
 "cells": [
  {
   "cell_type": "code",
   "execution_count": 2,
   "metadata": {},
   "outputs": [],
   "source": [
    "import pandas as pd\n",
    "import json\n",
    "\n",
    "with open('user.json',encoding=\"utf8\") as json_file:      \n",
    "    data = json_file.readlines()\n",
    "    # this line below may take at least 8-10 minutes of processing for 4-5 million rows. It converts all strings in list to actual json objects. \n",
    "    data = list(map(json.loads, data)) \n"
   ]
  },
  {
   "cell_type": "code",
   "execution_count": 6,
   "metadata": {},
   "outputs": [],
   "source": [
    "df=pd.DataFrame(data).head(10)\n",
    "df.to_csv('train.csv', sep=',')"
   ]
  },
  {
   "cell_type": "code",
   "execution_count": 4,
   "metadata": {},
   "outputs": [
    {
     "name": "stdout",
     "output_type": "stream",
     "text": [
      "   average_stars  compliment_cool  compliment_cute  compliment_funny  \\\n",
      "0           4.03                1                0                 1   \n",
      "1           3.63                1                0                 1   \n",
      "2           3.71                0                0                 0   \n",
      "3           4.85                0                0                 0   \n",
      "4           4.08               80                0                80   \n",
      "5           4.20              483               44               483   \n",
      "6           4.39             4991              889              4991   \n",
      "7           4.33                0                0                 0   \n",
      "8           4.21               95                7                95   \n",
      "9           4.53               14                2                14   \n",
      "\n",
      "   compliment_hot  compliment_list  compliment_more  compliment_note  \\\n",
      "0               2                0                0                1   \n",
      "1               1                0                0                0   \n",
      "2               0                0                0                1   \n",
      "3               1                0                0                0   \n",
      "4              28                1                1               16   \n",
      "5             350                3               46              221   \n",
      "6            5233              152              314             1600   \n",
      "7               0                0                0                0   \n",
      "8              60                3               16               31   \n",
      "9              13                0                3               12   \n",
      "\n",
      "   compliment_photos  compliment_plain         ...            cool  \\\n",
      "0                  0                 1         ...              25   \n",
      "1                  0                 0         ...              16   \n",
      "2                  0                 0         ...              10   \n",
      "3                  0                 2         ...              14   \n",
      "4                  5                57         ...             665   \n",
      "5                195               404         ...            3048   \n",
      "6                428              3635         ...           15319   \n",
      "7                  0                 0         ...               1   \n",
      "8                  2                72         ...            1244   \n",
      "9                  5                 8         ...             185   \n",
      "\n",
      "                                     elite  fans  \\\n",
      "0                           2015,2016,2017     5   \n",
      "1                                              4   \n",
      "2                                              0   \n",
      "3                                              5   \n",
      "4                      2015,2016,2017,2018    39   \n",
      "5                      2015,2016,2017,2018   186   \n",
      "6  2006,2007,2008,2009,2010,2011,2012,2013   696   \n",
      "7                                              0   \n",
      "8       2006,2007,2008,2009,2010,2011,2012    57   \n",
      "9                                             15   \n",
      "\n",
      "                                             friends  funny     name  \\\n",
      "0  c78V-rj8NQcQjOI8KP3UEA, alRMgPcngYSCJ5naFRBz5g...     17   Rashmi   \n",
      "1  kEBTgDvFX754S68FllfCaA, aB2DynOxNOJK9st2ZeGTPg...     22    Jenna   \n",
      "2  4N-HU_T32hLENLntsNKNBg, pSY2vwWLgWfGVAAiKQzMng...      8    David   \n",
      "3  RZ6wS38wnlXyj-OOdTzBxA, l5jxZh1KsgI8rMunm-GN6A...      4   Angela   \n",
      "4  mbwrZ-RS76V1HoJ0bF_Geg, g64lOV39xSLRZO0aQQ6DeQ...    279    Nancy   \n",
      "5  AJxDPGVTzefy3vSHWJchvQ, TgveR4qIsr0Q7b4MJK29TA...   2424  Marilyn   \n",
      "6  RJQTcJVlBsJ3_Yo0JSFQQg, GWt_h78k1CBBkE1NpThGfQ...  19356    Keane   \n",
      "7  d1z7Xc9RG5TVBkdUPhSbAw, IgsbGFEN8NWshPNOBiNGmg...      0    Andre   \n",
      "8  ctr_BlCf3Ogny-vLs8E9tQ, c6HT44PKCaXqzN_BdgKPCw...    693    Tanya   \n",
      "9  N-xeG3U6rUkjVtQ0o-5YZA, wnO99pBbGqwqOoTQM25iCw...     70    Trace   \n",
      "\n",
      "   review_count useful                 user_id        yelping_since  \n",
      "0            95     84  l6BmjZMeQD3rDxWUbiAiow  2013-10-08 23:11:33  \n",
      "1            33     48  4XChL029mKr5hydo79Ljxg  2013-02-21 22:29:06  \n",
      "2            16     28  bc8C_eETBWL0olvFSJJd0w  2013-10-04 00:16:10  \n",
      "3            17     30  dD0gZpBctWGdWo9WlGuhlA  2014-05-22 15:57:30  \n",
      "4           361   1114  MM4RJAeH6yuaN8oZDSt0RA  2013-10-23 07:02:50  \n",
      "5           214   3475  0rK89TS8xqy1wI4nYI1wfw  2011-06-23 08:05:13  \n",
      "6          1122  13311  TEtzbpgA2BFBrC0y0sCbfw  2006-02-15 18:29:35  \n",
      "7             6      1  KGuqerdeNhxzXZEyBaqqSw  2014-06-07 01:50:09  \n",
      "8           859   1630  T0gWkTHWRChVUe_Dn1F8nw  2005-07-20 22:38:17  \n",
      "9           124    202  NQffx45eJaeqhFcMadKUQA  2008-12-10 22:59:45  \n",
      "\n",
      "[10 rows x 22 columns]\n"
     ]
    }
   ],
   "source": [
    "print(df)"
   ]
  },
  {
   "cell_type": "code",
   "execution_count": 7,
   "metadata": {},
   "outputs": [],
   "source": [
    "user = ['4XChL029mKr5hydo79Ljxg', 'bc8C_eETBWL0olvFSJJd0w', 'dD0gZpBctWGdWo9WlGuhlA', 'MM4RJAeH6yuaN8oZDSt0RA', '0rK89TS8xqy1wI4nYI1wfw', 'TEtzbpgA2BFBrC0y0sCbfw', 'KGuqerdeNhxzXZEyBaqqSw', 'T0gWkTHWRChVUe_Dn1F8nw', 'NQffx45eJaeqhFcMadKUQA']"
   ]
  },
  {
   "cell_type": "code",
   "execution_count": 9,
   "metadata": {},
   "outputs": [],
   "source": [
    "with open('review.json',encoding=\"utf8\") as json_file:      \n",
    "    data = json_file.readlines()\n",
    "    # this line below may take at least 8-10 minutes of processing for 4-5 million rows. It converts all strings in list to actual json objects. \n",
    "    data = list(map(json.loads, data)) "
   ]
  },
  {
   "cell_type": "code",
   "execution_count": 10,
   "metadata": {},
   "outputs": [],
   "source": [
    "df=pd.DataFrame(data)\n",
    "#df.to_csv('review.json', sep=',')\n",
    "\n"
   ]
  },
  {
   "cell_type": "code",
   "execution_count": null,
   "metadata": {},
   "outputs": [],
   "source": [
    "csv_data = []\n",
    "for index, row in df.iterrows():\n",
    "    if row[]['user_id'] in user:\n",
    "        csv_data.append(row)\n"
   ]
  },
  {
   "cell_type": "code",
   "execution_count": 22,
   "metadata": {},
   "outputs": [
    {
     "ename": "ValueError",
     "evalue": "The truth value of a Series is ambiguous. Use a.empty, a.bool(), a.item(), a.any() or a.all().",
     "output_type": "error",
     "traceback": [
      "\u001b[1;31m---------------------------------------------------------------------------\u001b[0m",
      "\u001b[1;31mValueError\u001b[0m                                Traceback (most recent call last)",
      "\u001b[1;32m<ipython-input-22-3b1e0d10f045>\u001b[0m in \u001b[0;36m<module>\u001b[1;34m()\u001b[0m\n\u001b[1;32m----> 1\u001b[1;33m \u001b[0mdf\u001b[0m\u001b[1;33m[\u001b[0m\u001b[0mdf\u001b[0m\u001b[1;33m.\u001b[0m\u001b[0muser_id\u001b[0m \u001b[1;32mnot\u001b[0m \u001b[1;32min\u001b[0m \u001b[0muser\u001b[0m\u001b[1;33m]\u001b[0m\u001b[1;33m\u001b[0m\u001b[0m\n\u001b[0m",
      "\u001b[1;32mC:\\Program Files (x86)\\Microsoft Visual Studio\\Shared\\Anaconda3_64\\lib\\site-packages\\pandas\\core\\generic.py\u001b[0m in \u001b[0;36m__nonzero__\u001b[1;34m(self)\u001b[0m\n\u001b[0;32m   1119\u001b[0m         raise ValueError(\"The truth value of a {0} is ambiguous. \"\n\u001b[0;32m   1120\u001b[0m                          \u001b[1;34m\"Use a.empty, a.bool(), a.item(), a.any() or a.all().\"\u001b[0m\u001b[1;33m\u001b[0m\u001b[0m\n\u001b[1;32m-> 1121\u001b[1;33m                          .format(self.__class__.__name__))\n\u001b[0m\u001b[0;32m   1122\u001b[0m \u001b[1;33m\u001b[0m\u001b[0m\n\u001b[0;32m   1123\u001b[0m     \u001b[0m__bool__\u001b[0m \u001b[1;33m=\u001b[0m \u001b[0m__nonzero__\u001b[0m\u001b[1;33m\u001b[0m\u001b[0m\n",
      "\u001b[1;31mValueError\u001b[0m: The truth value of a Series is ambiguous. Use a.empty, a.bool(), a.item(), a.any() or a.all()."
     ]
    }
   ],
   "source": [
    "df[df.user_id not in user]"
   ]
  },
  {
   "cell_type": "code",
   "execution_count": 21,
   "metadata": {},
   "outputs": [
    {
     "name": "stdout",
     "output_type": "stream",
     "text": [
      "business_id                               PNzir9TtJAD7U41GwR98-w\n",
      "cool                                                           1\n",
      "date                                         2017-03-27 08:18:16\n",
      "funny                                                          0\n",
      "review_id                                 dLOTJm1mZA1cErGSSK_N7w\n",
      "stars                                                          3\n",
      "text           So, Mom and Dad live in Sun City and this rest...\n",
      "useful                                                         3\n",
      "user_id                                   MM4RJAeH6yuaN8oZDSt0RA\n",
      "Name: 10232, dtype: object\n"
     ]
    }
   ],
   "source": [
    "review_data = []\n",
    "for index,row in df.iterrows():\n",
    "    if row['user_id']in user:\n",
    "        review_data.append(row)\n",
    "print(review_data[0])"
   ]
  },
  {
   "cell_type": "code",
   "execution_count": 28,
   "metadata": {},
   "outputs": [
    {
     "data": {
      "text/plain": [
       "business_id    6685900\n",
       "cool           6685900\n",
       "date           6685900\n",
       "funny          6685900\n",
       "review_id      6685900\n",
       "stars          6685900\n",
       "text           6685900\n",
       "useful         6685900\n",
       "user_id        6685900\n",
       "dtype: int64"
      ]
     },
     "execution_count": 28,
     "metadata": {},
     "output_type": "execute_result"
    }
   ],
   "source": [
    "df.count()"
   ]
  },
  {
   "cell_type": "code",
   "execution_count": 24,
   "metadata": {},
   "outputs": [],
   "source": [
    "review_df = pd.DataFrame(review_data)"
   ]
  },
  {
   "cell_type": "code",
   "execution_count": 29,
   "metadata": {},
   "outputs": [],
   "source": [
    "review_df.to_csv(\"filtered_reviews.csv\", sep=\"'\")"
   ]
  },
  {
   "cell_type": "code",
   "execution_count": 27,
   "metadata": {},
   "outputs": [
    {
     "data": {
      "text/plain": [
       "business_id    186\n",
       "cool           186\n",
       "date           186\n",
       "funny          186\n",
       "review_id      186\n",
       "stars          186\n",
       "text           186\n",
       "useful         186\n",
       "user_id        186\n",
       "dtype: int64"
      ]
     },
     "execution_count": 27,
     "metadata": {},
     "output_type": "execute_result"
    }
   ],
   "source": [
    "review_df.count()"
   ]
  },
  {
   "cell_type": "code",
   "execution_count": 31,
   "metadata": {},
   "outputs": [
    {
     "name": "stdout",
     "output_type": "stream",
     "text": [
      "                    business_id  cool                 date  funny  \\\n",
      "10232    PNzir9TtJAD7U41GwR98-w     1  2017-03-27 08:18:16      0   \n",
      "25127    Wxxvi3LZbHNIDwJ-ZimtnA     0  2005-12-08 15:08:36      0   \n",
      "35449    pH0BLkL4cbxKzu471VZnuA     1  2014-05-27 15:59:06      0   \n",
      "38831    1c_jEfvQBPXZ5YUaAMYJrQ     1  2014-12-18 22:28:57      0   \n",
      "40081    RBAcL6hg2yoaTRv0kKUjPA     1  2015-04-02 23:08:42      0   \n",
      "90729    YPK024huhY2np5hJ_5qWCw     1  2015-04-02 23:36:43      0   \n",
      "107464   Wxxvi3LZbHNIDwJ-ZimtnA     1  2006-08-08 15:06:49      1   \n",
      "108339   lV3qjLJF_5QujITWHZ64gg     0  2013-04-17 03:14:53      0   \n",
      "110391   dm6sO_Y8JdKTE1ZM955yug     0  2014-09-27 19:52:48      0   \n",
      "120116   YMeWjOd1svHDGdDCKoiGgg    10  2015-05-01 08:55:59      8   \n",
      "138829   Zi7_E88i5KlOtaBobPVc5w     0  2017-01-30 04:50:31      0   \n",
      "145138   Ql5npMMRWKurN99tgA-g5w    22  2007-06-19 22:14:38     49   \n",
      "199041   p-8AMN9Q0qwym-3Pdle20Q     0  2013-04-17 03:14:31      0   \n",
      "306154   -LRlx2j9_LB3evsRRcC9MA     0  2015-06-03 18:33:46      0   \n",
      "359621   znWHLW1pt19HzW1VY6KfCA     2  2016-04-19 17:22:18      1   \n",
      "366952   _EBa6I5KkADiCdcBHOC_tg     3  2015-06-16 17:09:08      1   \n",
      "373580   N0apJkxIem2E8irTBRKnHw     1  2014-12-10 18:52:01      0   \n",
      "381597   9E1q2uEMd881wnruicNTUA     0  2013-11-11 18:21:08      0   \n",
      "410721   0qSKZhVC_BHPuKro4QGWJw     2  2015-03-30 19:51:30      1   \n",
      "414487   d_L-rfS1vT3JMzgCUGtiow     2  2015-03-30 19:52:20      1   \n",
      "438654   CfxFKL-F51ZGFGlKhnLJoQ     1  2015-03-30 21:01:35      0   \n",
      "568099   Hr_Bk65xD2yQxjJhhorH1g     2  2015-04-14 06:40:34      0   \n",
      "639869   CfxFKL-F51ZGFGlKhnLJoQ     2  2014-03-29 18:26:08      0   \n",
      "708156   GcvVXgdt4dq7EgVjbfD1wg     1  2017-03-29 17:05:41      0   \n",
      "725649   I-5qHCVwT7k_KH67-YOx3A     1  2015-04-02 23:34:49      0   \n",
      "726519   ry-FLqYclt7okJbdYcmOhw     2  2006-08-08 15:00:13      1   \n",
      "768148   eE4MUd3m6j6yISWjEYjyPQ     1  2015-06-11 07:47:57      0   \n",
      "770098   KVsv8wRGnLX8QWoNZKNMQA     1  2015-05-15 18:35:43      0   \n",
      "781808   i9D9xPBV0gR1Ja9kbY4NCw     1  2015-12-24 19:29:28      0   \n",
      "793658   WluvnTRuDWnWDDm0YqOOYQ     0  2013-02-25 21:06:56      1   \n",
      "...                         ...   ...                  ...    ...   \n",
      "5692991  RMt2bLmZQw6tcY0YFYDgmg     2  2016-04-19 17:28:55      1   \n",
      "5740288  y6QP5IrOJ7_FsB51jN2_Jg     1  2015-05-22 20:09:42      0   \n",
      "5741863  I1rDmKwZpR3VykgZDKMpTQ     1  2017-09-26 20:17:04      0   \n",
      "5837382  n9JeKS94hJRvnyZLqUbO6w     0  2012-07-14 10:34:08      0   \n",
      "5877620  VPS6qGuQsptLmHChOvA0_Q     1  2014-05-21 00:38:59      2   \n",
      "5932172  tcfL9_Qe-12eX4rdmK_6XA     3  2015-11-30 22:53:29      1   \n",
      "6000838  GozNbjSI1bdpPqqP_LMSBg     0  2014-03-25 04:26:33      0   \n",
      "6065771  AV6weBrZFFBfRGCbcRGO4g     0  2005-12-08 15:49:07      1   \n",
      "6086772  2weQS-RnoOBhb1KsHKyoSQ     5  2006-08-02 17:42:36      3   \n",
      "6093273  p5rpYtxS5xPQjt3MXYVEwA     2  2015-04-02 23:10:47      0   \n",
      "6095013  w6wZmLSaht7ZkGBZONeqww     1  2017-01-30 00:13:41      0   \n",
      "6108188  uanCi4OGc1mHLGl_AT4JhQ     2  2006-08-02 17:36:44      5   \n",
      "6144826  p0iEUamJVp_QpaheE-Nz_g     1  2015-04-03 20:39:53      0   \n",
      "6199848  -FtngCwHCD2tRlH8jpj_Ag     3  2016-02-03 18:40:40      1   \n",
      "6259166  HxWDCU-kKido3ErM31msGQ     1  2017-05-18 18:43:26      2   \n",
      "6295633  BwuyBsShSQwO3_-SvW6fRA     1  2016-01-08 21:11:48      0   \n",
      "6296905  HHPi_mqKYZ20R1eoaRTJLw     1  2016-01-08 20:51:57      0   \n",
      "6328088  SR0Q2hAEMJ_m23O_x-khSQ     0  2014-10-21 01:14:14      0   \n",
      "6357875  SZrrRRpbUgeJ1y5oe0jjlw     0  2013-07-26 22:37:34      0   \n",
      "6423785  JIETwXSEGIHMNyxZVEnNKQ     0  2015-01-14 18:24:26      0   \n",
      "6437792  ybHlmdUHLPKfv85bRK4Wtw     1  2018-06-17 01:55:50      1   \n",
      "6460156  OAbwqq66Sc2JYkO6b6rEDw     1  2014-08-07 03:15:36      0   \n",
      "6476218  -rhH9sL3XGFpoJXcxUpEWA     1  2013-06-14 05:57:33      0   \n",
      "6487718  LBVNBYNgopam1CzqPUPVvQ     1  2009-04-20 03:25:40      0   \n",
      "6491416  4cDWyZa6EqsY4XSWwLY7RA     0  2014-03-12 19:46:43      0   \n",
      "6534521  JIETwXSEGIHMNyxZVEnNKQ     1  2014-08-05 19:44:36      1   \n",
      "6609681  VTqNVgL8_My5jXTpr8lB3Q     0  2018-06-17 01:51:25      0   \n",
      "6611405  GU0zNpgisY-pV3U2Sfdp6A     2  2015-03-30 19:36:25      1   \n",
      "6621720  VTqNVgL8_My5jXTpr8lB3Q     1  2018-06-26 04:46:43      3   \n",
      "6665666  fHM09_y3QX3n4a_bIFbk_w     0  2012-10-03 02:11:11      0   \n",
      "\n",
      "                      review_id  stars  \\\n",
      "10232    dLOTJm1mZA1cErGSSK_N7w    3.0   \n",
      "25127    FJ2m1dD5Hi1OzUyg3IGZxg    5.0   \n",
      "35449    cX1FLOEc93Y-uEJlwOFhuw    5.0   \n",
      "38831    JYwQBBUSI_WmtLinsvlJlg    5.0   \n",
      "40081    qS59ay0WAL-YbaPCxZnJWQ    5.0   \n",
      "90729    h8LaPfHskd3Uxvp2I4d-zQ    4.0   \n",
      "107464   4xddu-bI-hGXjT_c8lMzZw    5.0   \n",
      "108339   jH8etZUhl705fjRRvK6XZQ    3.0   \n",
      "110391   ZUeet9Dj55olCsppyC-lcQ    5.0   \n",
      "120116   UHrZ5irLH09lV4pdREv2GA    5.0   \n",
      "138829   xqO4qsxjf2ZlRz4iy73HUA    5.0   \n",
      "145138   JK9HPRdfnI9AOsejKGBLjA    2.0   \n",
      "199041   c9cqqMp8HvH8nLS1YHr-zQ    4.0   \n",
      "306154   9zl8ER-u2ZuHgfc6ArDw4A    5.0   \n",
      "359621   EHEQo7c1jQtiKkcsVrGCMQ    5.0   \n",
      "366952   HBMbLKnaqO3-wuXCTFG8yA    4.0   \n",
      "373580   TZ-nj7c6TqBZGbvoxt2vxw    4.0   \n",
      "381597   Yt1ykgawOlZx5xYJLYSLPA    3.0   \n",
      "410721   E62Vk8PcufmIgFwgCZHXIg    5.0   \n",
      "414487   6QWRhnEjhEWY-PDCiHoWgg    5.0   \n",
      "438654   mTC3_kDFGtn2hbK4FrRjYg    5.0   \n",
      "568099   QVmTou5n-db3goo0bwMPTA    4.0   \n",
      "639869   K4Z3CvwHlmwqaZ6_QONcQw    5.0   \n",
      "708156   n6-zFRLuZluJV74UutSP5Q    5.0   \n",
      "725649   MEawIiM02O0rOQbb1gVz7Q    4.0   \n",
      "726519   9Ap0cea8cN4fL3FqhymqJA    3.0   \n",
      "768148   3iRpuvDYqdrx-WyghrkJyg    5.0   \n",
      "770098   fQ0nxnfjNypzeyqDPuq3dQ    5.0   \n",
      "781808   NH0SwBdW-iuzUSalDdnK8w    5.0   \n",
      "793658   rOg_YBQlMkiqQ7CjV-xwng    1.0   \n",
      "...                         ...    ...   \n",
      "5692991  9LP-aGzR44dg2HBofU2E2w    5.0   \n",
      "5740288  xlcC75YrHhln2pmgpA7i7w    4.0   \n",
      "5741863  oonOxoqJGP0U1nUvWQ1XtQ    5.0   \n",
      "5837382  sNFY-oPaTvc3vZ-8Jmi_NA    5.0   \n",
      "5877620  4qCT58GmcgNQs5h-Ts_kaA    5.0   \n",
      "5932172  K4M_wVGaCw7_SbABZeTxIw    5.0   \n",
      "6000838  1JeZQR9YnHAaFVy1zON_FQ    4.0   \n",
      "6065771  jR1_ekU0f2lfl-ep1FtO3g    4.0   \n",
      "6086772  C63TjEQ35adw1D0P9ZRH0A    5.0   \n",
      "6093273  p4TaX7tlw9k_-uGf91re-A    5.0   \n",
      "6095013  i3HnOoimjfwLBXsM5YQmYg    5.0   \n",
      "6108188  fodjjKnA_cLrF370BI4y5g    3.0   \n",
      "6144826  ozYBRRCxWK_5S6vJti79OQ    4.0   \n",
      "6199848  UQgEMH0xpk9F47f_bii6Ow    4.0   \n",
      "6259166  2nIXlSbwDEic9Y4fu-cwrA    1.0   \n",
      "6295633  CfrAMh3gAeaaBvPXCwDGtw    5.0   \n",
      "6296905  OQYc4RWpYx_qBl-_TR9OoQ    5.0   \n",
      "6328088  L0sI8le606WIJrBuvXR1Yg    5.0   \n",
      "6357875  KtGgEeN7IdA8LDMtF46-vA    4.0   \n",
      "6423785  Z4CplHJo9HivRLYnGwra7w    3.0   \n",
      "6437792  aYYRECvyVVmEszwfqz_KfA    4.0   \n",
      "6460156  jyIVSzbNveq2vO_PURRHTA    4.0   \n",
      "6476218  fSamRCGdOnqrlMEnSVnJlA    4.0   \n",
      "6487718  H8CG6jZyYA7xWI_GUqQMGQ    5.0   \n",
      "6491416  rgHLQ7tdF3WJoSVM53S3YQ    5.0   \n",
      "6534521  p-5xzY9I666CVXNI_VLmwA    1.0   \n",
      "6609681  -9DT4Vs2FQntNyL9nLrtcg    1.0   \n",
      "6611405  ORaovUXOqkTUgRUnNZC7yw    5.0   \n",
      "6621720  QCrF_-M1AZPhSDrAwfmm9g    1.0   \n",
      "6665666  qkji0xpngwARoXXxSVy5MA    4.0   \n",
      "\n",
      "                                                      text  useful  \\\n",
      "10232    So, Mom and Dad live in Sun City and this rest...       3   \n",
      "25127    Have stayed here a number of times for wedding...       0   \n",
      "35449    Came in on Sunday (5/25) to dine with my famil...       0   \n",
      "38831    This place is awesome and the people are SO ni...       1   \n",
      "40081    Great Ahi Tuna Poke! This is our favorite pre-...       0   \n",
      "90729    casual atmosphere and friendly bartenders. We ...       1   \n",
      "107464   Because when I see a Caravaggio, what I'm real...       2   \n",
      "108339   Bridesmaid dress was done on time. Price was o...       0   \n",
      "110391   I truly enjoyed my first experience with Chada...       2   \n",
      "120116   EDC has grown a whole lot. This use to be my a...       9   \n",
      "138829   HOLY CRAP! I just had the best massage of my l...       0   \n",
      "145138   THEHotel is pretty on the surface, but, like V...      21   \n",
      "199041   This place would get 5 stars everytime if they...       1   \n",
      "306154   Thank you to the staff and Dr. Matchette for t...       1   \n",
      "359621   Wow lots of choices and SO much food!  This is...       2   \n",
      "366952   Very clean. Lots of Gluten Free items if you n...       1   \n",
      "373580   Food and service was excellent. Tuna tartar wi...       0   \n",
      "381597   It's such a bummer that the service here is aw...       0   \n",
      "410721   Love this place!  Nice bar, good entertainment...       1   \n",
      "414487   Food is pretty good - service really friendly....       1   \n",
      "438654   THE BEST place to get your car done...most tru...       0   \n",
      "568099   If you're disappointed because it doesn't have...       3   \n",
      "639869   The BEST! I've been coming here since I've bee...       2   \n",
      "708156   Food was very good but super over-priced.  The...       1   \n",
      "725649   Excellent dessert of course ;) Great food, lot...       0   \n",
      "726519   The buffet was full of mystery meat...\\n\\nI re...       1   \n",
      "768148   The first time I visited this place, it was ju...       2   \n",
      "770098   We were not prepared for \"jacket attire\" but o...       0   \n",
      "781808   Great service super friendly staff! And the fo...       1   \n",
      "793658   0 stars for the crap oil change job and 1 star...       3   \n",
      "...                                                    ...     ...   \n",
      "5692991  Love Sephora love the huge selection!  Sometim...       2   \n",
      "5740288  Service was good, bar is fun pizza is pretty g...       1   \n",
      "5741863  I could not keep my appointment for the day I ...       1   \n",
      "5837382  Iceburg! Iceburg!\\n\\nShazam a flashback album....       0   \n",
      "5877620  Theresa Garcia is definitely the best permanen...       6   \n",
      "5932172  1st time here, food was great! service was fas...       1   \n",
      "6000838  Love this place and come here often. Fresh jui...       0   \n",
      "6065771  As over the top as Donald's combover.\\n\\nI did...       0   \n",
      "6086772  Literally the best buffet I have ever been to....       6   \n",
      "6093273  GREAT food, clean and healthy, lots of choices...       1   \n",
      "6095013  I was so excited to see that Papaya King was c...       1   \n",
      "6108188  \"Sirens of T.I.\" worked in that I heard music ...       4   \n",
      "6144826  Nice local place to go, some good restaurants....       0   \n",
      "6199848  service was a bit slow and they forgot about u...       2   \n",
      "6259166  Could not dislike this place anymore than I do...       1   \n",
      "6295633  Order delivery twice from here and they are su...       1   \n",
      "6296905  Excellent service!  Very helpful.  We've been ...       0   \n",
      "6328088  My new favorite place! It's hard to find good ...       0   \n",
      "6357875  Tried this place today for lunch for something...       0   \n",
      "6423785  I have upped my stars on this review slightly....       2   \n",
      "6437792  Grouchy John, Angry Joe, what is everyone so a...       1   \n",
      "6460156  Really great Thai food here! \\n\\nI am a really...       2   \n",
      "6476218  Delicious food! Their burgers are always amazi...       0   \n",
      "6487718  This place is great - excellent sushi, unique ...       0   \n",
      "6491416  Excellent vegan food very creative!  It is a l...       2   \n",
      "6534521  Sad to say but I won't be returning here until...       4   \n",
      "6609681  As usual this place is disappointing. I was gr...       0   \n",
      "6611405  Super nice bartenders and definitely the best ...       2   \n",
      "6621720  Not a fake review. Check your system I was a m...       5   \n",
      "6665666  5 stars for the staff.\\n\\nPacked throughout th...       0   \n",
      "\n",
      "                        user_id  \n",
      "10232    MM4RJAeH6yuaN8oZDSt0RA  \n",
      "25127    T0gWkTHWRChVUe_Dn1F8nw  \n",
      "35449    dD0gZpBctWGdWo9WlGuhlA  \n",
      "38831    NQffx45eJaeqhFcMadKUQA  \n",
      "40081    NQffx45eJaeqhFcMadKUQA  \n",
      "90729    NQffx45eJaeqhFcMadKUQA  \n",
      "107464   TEtzbpgA2BFBrC0y0sCbfw  \n",
      "108339   4XChL029mKr5hydo79Ljxg  \n",
      "110391   bc8C_eETBWL0olvFSJJd0w  \n",
      "120116   0rK89TS8xqy1wI4nYI1wfw  \n",
      "138829   KGuqerdeNhxzXZEyBaqqSw  \n",
      "145138   TEtzbpgA2BFBrC0y0sCbfw  \n",
      "199041   4XChL029mKr5hydo79Ljxg  \n",
      "306154   4XChL029mKr5hydo79Ljxg  \n",
      "359621   NQffx45eJaeqhFcMadKUQA  \n",
      "366952   NQffx45eJaeqhFcMadKUQA  \n",
      "373580   NQffx45eJaeqhFcMadKUQA  \n",
      "381597   4XChL029mKr5hydo79Ljxg  \n",
      "410721   NQffx45eJaeqhFcMadKUQA  \n",
      "414487   NQffx45eJaeqhFcMadKUQA  \n",
      "438654   NQffx45eJaeqhFcMadKUQA  \n",
      "568099   MM4RJAeH6yuaN8oZDSt0RA  \n",
      "639869   NQffx45eJaeqhFcMadKUQA  \n",
      "708156   NQffx45eJaeqhFcMadKUQA  \n",
      "725649   NQffx45eJaeqhFcMadKUQA  \n",
      "726519   TEtzbpgA2BFBrC0y0sCbfw  \n",
      "768148   MM4RJAeH6yuaN8oZDSt0RA  \n",
      "770098   NQffx45eJaeqhFcMadKUQA  \n",
      "781808   NQffx45eJaeqhFcMadKUQA  \n",
      "793658   4XChL029mKr5hydo79Ljxg  \n",
      "...                         ...  \n",
      "5692991  NQffx45eJaeqhFcMadKUQA  \n",
      "5740288  NQffx45eJaeqhFcMadKUQA  \n",
      "5741863  NQffx45eJaeqhFcMadKUQA  \n",
      "5837382  T0gWkTHWRChVUe_Dn1F8nw  \n",
      "5877620  NQffx45eJaeqhFcMadKUQA  \n",
      "5932172  NQffx45eJaeqhFcMadKUQA  \n",
      "6000838  4XChL029mKr5hydo79Ljxg  \n",
      "6065771  T0gWkTHWRChVUe_Dn1F8nw  \n",
      "6086772  TEtzbpgA2BFBrC0y0sCbfw  \n",
      "6093273  NQffx45eJaeqhFcMadKUQA  \n",
      "6095013  KGuqerdeNhxzXZEyBaqqSw  \n",
      "6108188  TEtzbpgA2BFBrC0y0sCbfw  \n",
      "6144826  NQffx45eJaeqhFcMadKUQA  \n",
      "6199848  NQffx45eJaeqhFcMadKUQA  \n",
      "6259166  4XChL029mKr5hydo79Ljxg  \n",
      "6295633  NQffx45eJaeqhFcMadKUQA  \n",
      "6296905  NQffx45eJaeqhFcMadKUQA  \n",
      "6328088  NQffx45eJaeqhFcMadKUQA  \n",
      "6357875  4XChL029mKr5hydo79Ljxg  \n",
      "6423785  4XChL029mKr5hydo79Ljxg  \n",
      "6437792  NQffx45eJaeqhFcMadKUQA  \n",
      "6460156  bc8C_eETBWL0olvFSJJd0w  \n",
      "6476218  4XChL029mKr5hydo79Ljxg  \n",
      "6487718  NQffx45eJaeqhFcMadKUQA  \n",
      "6491416  NQffx45eJaeqhFcMadKUQA  \n",
      "6534521  4XChL029mKr5hydo79Ljxg  \n",
      "6609681  NQffx45eJaeqhFcMadKUQA  \n",
      "6611405  NQffx45eJaeqhFcMadKUQA  \n",
      "6621720  NQffx45eJaeqhFcMadKUQA  \n",
      "6665666  T0gWkTHWRChVUe_Dn1F8nw  \n",
      "\n",
      "[186 rows x 9 columns]\n"
     ]
    }
   ],
   "source": [
    "print(review_df)"
   ]
  },
  {
   "cell_type": "code",
   "execution_count": 33,
   "metadata": {},
   "outputs": [
    {
     "name": "stdout",
     "output_type": "stream",
     "text": [
      "ty\n"
     ]
    }
   ],
   "source": [
    "print('ty')"
   ]
  },
  {
   "cell_type": "code",
   "execution_count": 35,
   "metadata": {},
   "outputs": [],
   "source": [
    "review_df.to_pickle('df_review')"
   ]
  },
  {
   "cell_type": "code",
   "execution_count": null,
   "metadata": {},
   "outputs": [],
   "source": []
  }
 ],
 "metadata": {
  "kernelspec": {
   "display_name": "Python 3",
   "language": "python",
   "name": "python3"
  },
  "language_info": {
   "codemirror_mode": {
    "name": "ipython",
    "version": 3
   },
   "file_extension": ".py",
   "mimetype": "text/x-python",
   "name": "python",
   "nbconvert_exporter": "python",
   "pygments_lexer": "ipython3",
   "version": "3.6.4"
  }
 },
 "nbformat": 4,
 "nbformat_minor": 2
}
