{
 "cells": [
  {
   "cell_type": "code",
   "execution_count": 5,
   "metadata": {},
   "outputs": [],
   "source": [
    "import csv\n",
    "\n",
    "myList=[]\n",
    "with open('train') as csv_file:\n",
    "    csv_reader = csv.reader(csv_file, delimiter=',')\n",
    "    line_count = 0\n",
    "    for row in csv_reader:\n",
    "        if row is 'user_id':\n",
    "            print(row)\n",
    "        #if ro == 0:\n",
    "          \n",
    "   # print(f'Processed {line_count} lines.')"
   ]
  },
  {
   "cell_type": "code",
   "execution_count": 26,
   "metadata": {},
   "outputs": [
    {
     "name": "stdout",
     "output_type": "stream",
     "text": [
      "['4XChL029mKr5hydo79Ljxg', 'bc8C_eETBWL0olvFSJJd0w', 'dD0gZpBctWGdWo9WlGuhlA', 'MM4RJAeH6yuaN8oZDSt0RA', '0rK89TS8xqy1wI4nYI1wfw', 'TEtzbpgA2BFBrC0y0sCbfw', 'KGuqerdeNhxzXZEyBaqqSw', 'T0gWkTHWRChVUe_Dn1F8nw', 'NQffx45eJaeqhFcMadKUQA']\n"
     ]
    }
   ],
   "source": [
    "import csv\n",
    "user = []\n",
    "with open(\"train.csv\") as f:\n",
    "    reader = csv.DictReader(f)\n",
    "    i = next(reader)\n",
    "\n",
    "    for row in reader:\n",
    "        user.append(row['user_id'])\n",
    "\n",
    "\n",
    "print(user)\n",
    "        \n"
   ]
  },
  {
   "cell_type": "code",
   "execution_count": null,
   "metadata": {},
   "outputs": [],
   "source": []
  },
  {
   "cell_type": "code",
   "execution_count": null,
   "metadata": {},
   "outputs": [],
   "source": [
    "business_data = []\n",
    "for index,row in df.iterrows():\n",
    "    if row['user_id']in user:\n",
    "        business_data.append(row)\n",
    "print(business_data[0])"
   ]
  }
 ],
 "metadata": {
  "kernelspec": {
   "display_name": "Python 3",
   "language": "python",
   "name": "python3"
  },
  "language_info": {
   "codemirror_mode": {
    "name": "ipython",
    "version": 3
   },
   "file_extension": ".py",
   "mimetype": "text/x-python",
   "name": "python",
   "nbconvert_exporter": "python",
   "pygments_lexer": "ipython3",
   "version": "3.6.4"
  }
 },
 "nbformat": 4,
 "nbformat_minor": 2
}
